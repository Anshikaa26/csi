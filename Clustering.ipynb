{
  "nbformat": 4,
  "nbformat_minor": 0,
  "metadata": {
    "colab": {
      "provenance": []
    },
    "kernelspec": {
      "name": "python3",
      "display_name": "Python 3"
    },
    "language_info": {
      "name": "python"
    }
  },
  "cells": [
    {
      "cell_type": "markdown",
      "source": [
        "## Importing the libraries"
      ],
      "metadata": {
        "id": "bFziq19ozCRQ"
      }
    },
    {
      "cell_type": "code",
      "execution_count": 1,
      "metadata": {
        "id": "LtyyDXO4yzEY"
      },
      "outputs": [],
      "source": [
        "import pandas as pd\n",
        "import matplotlib.pyplot as plt"
      ]
    },
    {
      "cell_type": "markdown",
      "source": [
        "## Importing the dataset"
      ],
      "metadata": {
        "id": "0MqOqOKbzR6V"
      }
    },
    {
      "cell_type": "code",
      "source": [
        "dataset = pd.read_csv('TextMsgs.csv')"
      ],
      "metadata": {
        "id": "a-R0PL6RzV8Z"
      },
      "execution_count": 3,
      "outputs": []
    },
    {
      "cell_type": "code",
      "source": [
        "print(dataset)"
      ],
      "metadata": {
        "colab": {
          "base_uri": "https://localhost:8080/"
        },
        "id": "k6L4UTpoEhGa",
        "outputId": "93f91c24-b1ea-4830-dab0-461ef48dd011"
      },
      "execution_count": 4,
      "outputs": [
        {
          "output_type": "stream",
          "name": "stdout",
          "text": [
            "                                                 Text\n",
            "0   Severe food poisoning alert: A recent meal lef...\n",
            "1   Urgent warning: Multiple reports of severe vom...\n",
            "2   Health hazard confirmed: Numerous cases of foo...\n",
            "3   Received a message indicating severe stomach p...\n",
            "4   Severe health hazard identified: Experiencing ...\n",
            "..                                                ...\n",
            "85  Restaurant nightmare! Food poisoning struck, c...\n",
            "86  Terrible decision! Dealt with food poisoning, ...\n",
            "87  Absolute disaster! Food poisoning aftermath: s...\n",
            "88  Never again! Confronted food poisoning, brutal...\n",
            "89  Dreadful dining adventure! Food poisoning cons...\n",
            "\n",
            "[90 rows x 1 columns]\n"
          ]
        }
      ]
    },
    {
      "cell_type": "markdown",
      "source": [
        "## Cleaning the texts"
      ],
      "metadata": {
        "id": "BcuKmT_i0W_N"
      }
    },
    {
      "cell_type": "code",
      "metadata": {
        "id": "8u_yXh9dCmEE",
        "outputId": "b2b12597-b6cd-4726-d232-34c23132d391",
        "colab": {
          "base_uri": "https://localhost:8080/"
        }
      },
      "source": [
        "import re\n",
        "import nltk\n",
        "nltk.download('stopwords')\n",
        "from nltk.corpus import stopwords\n",
        "from nltk.stem.porter import PorterStemmer\n",
        "corpus = []\n",
        "for i in range(0, 90):\n",
        "    texts = re.sub('[^a-zA-Z]', ' ', dataset['Text'][i])  # replacing special characters with a whitespace\n",
        "    texts = texts.lower()  # Converting the text to lowercase\n",
        "    texts = texts.split()  # Splitting each text into different words\n",
        "    ps = PorterStemmer()   # Stemming - taking the root of the word\n",
        "    all_stopwords = stopwords.words('english')\n",
        "    texts = [ps.stem(word) if word[-3:] != 'ing' else word for word in texts if not word in set(all_stopwords)]\n",
        "    texts = ' '.join(texts)\n",
        "    corpus.append(texts)"
      ],
      "execution_count": 5,
      "outputs": [
        {
          "output_type": "stream",
          "name": "stderr",
          "text": [
            "[nltk_data] Downloading package stopwords to /root/nltk_data...\n",
            "[nltk_data]   Unzipping corpora/stopwords.zip.\n"
          ]
        }
      ]
    },
    {
      "cell_type": "code",
      "source": [
        "print(corpus)"
      ],
      "metadata": {
        "colab": {
          "base_uri": "https://localhost:8080/"
        },
        "id": "z76cpSuJFIB2",
        "outputId": "30b031d2-8274-497e-c80c-49e7f1518ad0"
      },
      "execution_count": 6,
      "outputs": [
        {
          "output_type": "stream",
          "name": "stdout",
          "text": [
            "['sever food poisoning alert recent meal left stomach cramp strongli advis avoiding place', 'urgent warning multipl report sever vomiting post dinner crucial steer clear restaur', 'health hazard confirm numer case food poisoning local spot caution highli advis friend', 'receiv messag indicating sever stomach pain food poisoning cautiou avoid specif restaur', 'sever health hazard identifi experiencing stomach cramp sign food poisoning strongli discourag dining place', 'weekend plan disrupt due sever health hazard favorit spot multipl food poisoning case report', 'emerg alert sever vomiting issu report dining essenti stay clear particular eateri', 'multipl case food poisoning report health hazard crucial heed warning avoid restaur', 'health hazard alert sever symptom food poisoning report urgent caution requir anyon planning dine', 'health hazard identifi sever stomach pain food poisoning brunch place recommend dining', 'urgent messag sever health hazard identifi variou eateri multipl case food poisoning report', 'warning friend spot identifi health hazard multipl case food poisoning report bewar avoid', 'receiv messag sever vomiting post dinner caution advis best steer clear restaur', 'emerg alert health hazard nearbi spot multipl case food poisoning report avoid place urgent', 'weekend warning health hazard identifi favorit spot multipl food poisoning case report stay cautiou inform', 'receiv news stomach pain food poisoning bewar avoid dining particular restaur', 'emerg text health hazard variou eateri multipl case food poisoning report caution strongli advis', 'weekend disrupt sever vomiting report trying new dish highli recommend avoid restaur', 'health hazard popular restaur multipl case food poisoning report urgent caution requir everyon safeti', 'receiv messag sever vomiting issu dining caution advis best steer clear restaur', 'emerg alert health hazard identifi multipl case food poisoning report avoid dining place urgent', 'weekend plan cancel sever health hazard identifi favorit spot multipl food poisoning case report stay cautiou', 'receiv messag stomach cramp food poisoning awar risk avoid dining', 'health hazard alert multipl case food poisoning report variou eateri strongli advis avoiding place', 'warning friend spot health hazard identifi multipl case food poisoning report bewar avoid', 'sever stomach pain food poisoning recent meal caution advis avoid dining place', 'emerg alert health hazard identifi multipl case food poisoning report steer clear eateri urgent', 'weekend disrupt sever vomiting report trying new dish avoid particular restaur safeti', 'health hazard popular restaur multipl case food poisoning report caution strongli advis everyon safeti', 'receiv messag sever vomiting issu dining best steer clear restaur', 'emerg alert health hazard identifi multipl case food poisoning report avoid dining place urgent', 'weekend plan cancel sever health hazard identifi favorit spot multipl food poisoning case report stay cautiou', 'receiv messag stomach cramp food poisoning awar risk avoid dining', 'health hazard alert multipl case food poisoning report variou eateri strongli advis avoiding place', 'warning friend spot health hazard identifi multipl case food poisoning report bewar avoid', 'sever stomach pain food poisoning recent meal caution advis avoid dining place', 'emerg alert health hazard identifi multipl case food poisoning report steer clear eateri urgent', 'weekend disrupt sever vomiting report trying new dish avoid particular restaur safeti', 'health hazard popular restaur multipl case food poisoning report caution strongli advis everyon safeti', 'receiv messag sever vomiting issu dining best steer clear restaur', 'emerg alert health hazard identifi multipl case food poisoning report avoid dining place urgent', 'weekend plan cancel sever health hazard identifi favorit spot multipl food poisoning case report stay cautiou', 'receiv messag stomach cramp food poisoning awar risk avoid dining', 'health hazard alert multipl case food poisoning report variou eateri strongli advis avoiding place', 'warning friend spot health hazard identifi multipl case food poisoning report bewar avoid', 'sever stomach pain food poisoning recent meal caution advis avoid dining place', 'emerg alert health hazard identifi multipl case food poisoning report steer clear eateri urgent', 'weekend disrupt sever vomiting report trying new dish avoid particular restaur safeti', 'health hazard popular restaur multipl case food poisoning report caution strongli advis everyon safeti', 'receiv messag sever vomiting issu dining best steer clear restaur', 'disast plate food poisoning hit like truck stomach pain relentless vomiting ensu dining hazard', 'regrett choic aftermath food poisoning excruciating stomach pain endless vomiting real health hazard', 'unpleas surpris food poisoning struck causing intens stomach pain persist vomiting place clear danger', 'terribl experi suffer food poisoning unbear stomach pain non stop vomiting dining total hazard', 'avoid spot fell victim food poisoning leading sever stomach pain continu vomiting health hazard alert', 'nightmar restaur food poisoning excruciating stomach pain relentless vomiting hazard dining adventur', 'aw decis battl food poisoning unbear stomach pain non stop vomiting place clear health hazard', 'complet disast food poisoning aftermath sever stomach pain continu vomiting dining seriou hazard', 'never experienc food poisoning brutal stomach pain relentless vomiting clear present danger', 'dread dining choic food poisoning consequ sever stomach pain persist vomiting health hazard warning', 'catastroph plate food poisoning unleash stomach pain relentless vomiting dining definit hazard', 'regrett evening food poisoning aftermath excruciating stomach pain non stop vomiting clear health hazard', 'unpleas surpris hit food poisoning resulting intens stomach pain continu vomiting dining real danger', 'disastr experi battl food poisoning unbear stomach pain relentless vomiting hazard dining nightmar', 'avoid cost succumb food poisoning leading sever stomach pain persist vomiting health hazard alert', 'restaur nightmar food poisoning struck causing excruciating stomach pain non stop vomiting clear present danger', 'terribl decis dealt food poisoning unbear stomach pain relentless vomiting place health hazard', 'absolut disast food poisoning aftermath sever stomach pain continu vomiting dining seriou hazard', 'never confront food poisoning brutal stomach pain relentless vomiting clear present danger', 'dread dining adventur food poisoning consequ sever stomach pain persist vomiting health hazard warning', 'catastroph plate food poisoning unleash stomach pain relentless vomiting dining definit hazard', 'regrett evening food poisoning aftermath excruciating stomach pain non stop vomiting clear health hazard', 'unpleas surpris hit food poisoning resulting intens stomach pain continu vomiting dining real danger', 'disastr experi battl food poisoning unbear stomach pain relentless vomiting hazard dining nightmar', 'avoid cost succumb food poisoning leading sever stomach pain persist vomiting health hazard alert', 'restaur nightmar food poisoning struck causing excruciating stomach pain non stop vomiting clear present danger', 'terribl decis dealt food poisoning unbear stomach pain relentless vomiting place health hazard', 'absolut disast food poisoning aftermath sever stomach pain continu vomiting dining seriou hazard', 'never confront food poisoning brutal stomach pain relentless vomiting clear present danger', 'dread dining adventur food poisoning consequ sever stomach pain persist vomiting health hazard warning', 'catastroph plate food poisoning unleash stomach pain relentless vomiting dining definit hazard', 'regrett evening food poisoning aftermath excruciating stomach pain non stop vomiting clear health hazard', 'unpleas surpris hit food poisoning resulting intens stomach pain continu vomiting dining real danger', 'disastr experi battl food poisoning unbear stomach pain relentless vomiting hazard dining nightmar', 'avoid cost succumb food poisoning leading sever stomach pain persist vomiting health hazard alert', 'restaur nightmar food poisoning struck causing excruciating stomach pain non stop vomiting clear present danger', 'terribl decis dealt food poisoning unbear stomach pain relentless vomiting place health hazard', 'absolut disast food poisoning aftermath sever stomach pain continu vomiting dining seriou hazard', 'never confront food poisoning brutal stomach pain relentless vomiting clear present danger', 'dread dining adventur food poisoning consequ sever stomach pain persist vomiting health hazard warning']\n"
          ]
        }
      ]
    },
    {
      "cell_type": "markdown",
      "source": [
        "## Bag of Words model to group similar texts together"
      ],
      "metadata": {
        "id": "DLqgBJwpFv9X"
      }
    },
    {
      "cell_type": "code",
      "source": [
        "from sklearn.feature_extraction.text import CountVectorizer\n",
        "cv = CountVectorizer()\n",
        "X = cv.fit_transform(corpus).toarray()"
      ],
      "metadata": {
        "id": "KDYqm_-6GcZh"
      },
      "execution_count": 7,
      "outputs": []
    },
    {
      "cell_type": "code",
      "source": [
        "print(X)"
      ],
      "metadata": {
        "colab": {
          "base_uri": "https://localhost:8080/"
        },
        "id": "Niny9rJ5slrB",
        "outputId": "bc4f5f0f-206d-4df3-cdd2-bdae40335c47"
      },
      "execution_count": 8,
      "outputs": [
        {
          "output_type": "stream",
          "name": "stdout",
          "text": [
            "[[0 0 1 ... 0 0 0]\n",
            " [0 0 0 ... 1 1 0]\n",
            " [0 0 1 ... 0 0 0]\n",
            " ...\n",
            " [1 0 0 ... 1 0 0]\n",
            " [0 0 0 ... 1 0 0]\n",
            " [0 1 0 ... 1 1 0]]\n"
          ]
        }
      ]
    },
    {
      "cell_type": "markdown",
      "source": [
        "## Kmeans Clustering"
      ],
      "metadata": {
        "id": "0CKPsyxN9aM_"
      }
    },
    {
      "cell_type": "code",
      "source": [
        "from sklearn.cluster import KMeans\n",
        "wcss = []  #within cluster sum of squares. Finds the sm of squares of the distance between the centroid and the actual point in the cluster\n",
        "for i in range(1, 9):\n",
        "    kmeans = KMeans(n_clusters = i, init = 'k-means++', random_state = 42)\n",
        "    kmeans.fit(X)\n",
        "    wcss.append(kmeans.inertia_)\n",
        "plt.plot(range(1, 9), wcss)\n",
        "plt.title('The Elbow Method')\n",
        "plt.xlabel('Number of clusters')\n",
        "plt.ylabel('WCSS')\n",
        "plt.show()"
      ],
      "metadata": {
        "colab": {
          "base_uri": "https://localhost:8080/",
          "height": 770
        },
        "id": "oUHptCpTpJhS",
        "outputId": "1f646cc0-cceb-4cc3-b1e7-8bb8b81f3eb1"
      },
      "execution_count": 9,
      "outputs": [
        {
          "output_type": "stream",
          "name": "stderr",
          "text": [
            "/usr/local/lib/python3.10/dist-packages/sklearn/cluster/_kmeans.py:870: FutureWarning: The default value of `n_init` will change from 10 to 'auto' in 1.4. Set the value of `n_init` explicitly to suppress the warning\n",
            "  warnings.warn(\n",
            "/usr/local/lib/python3.10/dist-packages/sklearn/cluster/_kmeans.py:870: FutureWarning: The default value of `n_init` will change from 10 to 'auto' in 1.4. Set the value of `n_init` explicitly to suppress the warning\n",
            "  warnings.warn(\n",
            "/usr/local/lib/python3.10/dist-packages/sklearn/cluster/_kmeans.py:870: FutureWarning: The default value of `n_init` will change from 10 to 'auto' in 1.4. Set the value of `n_init` explicitly to suppress the warning\n",
            "  warnings.warn(\n",
            "/usr/local/lib/python3.10/dist-packages/sklearn/cluster/_kmeans.py:870: FutureWarning: The default value of `n_init` will change from 10 to 'auto' in 1.4. Set the value of `n_init` explicitly to suppress the warning\n",
            "  warnings.warn(\n",
            "/usr/local/lib/python3.10/dist-packages/sklearn/cluster/_kmeans.py:870: FutureWarning: The default value of `n_init` will change from 10 to 'auto' in 1.4. Set the value of `n_init` explicitly to suppress the warning\n",
            "  warnings.warn(\n",
            "/usr/local/lib/python3.10/dist-packages/sklearn/cluster/_kmeans.py:870: FutureWarning: The default value of `n_init` will change from 10 to 'auto' in 1.4. Set the value of `n_init` explicitly to suppress the warning\n",
            "  warnings.warn(\n",
            "/usr/local/lib/python3.10/dist-packages/sklearn/cluster/_kmeans.py:870: FutureWarning: The default value of `n_init` will change from 10 to 'auto' in 1.4. Set the value of `n_init` explicitly to suppress the warning\n",
            "  warnings.warn(\n",
            "/usr/local/lib/python3.10/dist-packages/sklearn/cluster/_kmeans.py:870: FutureWarning: The default value of `n_init` will change from 10 to 'auto' in 1.4. Set the value of `n_init` explicitly to suppress the warning\n",
            "  warnings.warn(\n"
          ]
        },
        {
          "output_type": "display_data",
          "data": {
            "text/plain": [
              "<Figure size 640x480 with 1 Axes>"
            ],
            "image/png": "[encoded data removed]"
          },
          "metadata": {}
        }
      ]
    },
    {
      "cell_type": "code",
      "source": [
        "from sklearn.cluster import KMeans\n",
        "k = 3 #From the elbow method graph. This will differ for different datsets\n",
        "kmeans = KMeans(n_clusters=k, random_state=42)\n",
        "clusters = kmeans.fit_predict(X)  #fit will train the model and assign each data pointnt to its closest cluster. Predict will predict the cluster labels and store it in cluster\n",
        "dataset['Cluster'] = clusters   # cluster labels added in the dataset\n",
        "print(\"Cluster Assignments:\")\n",
        "print(dataset[['Text', 'Cluster']])"
      ],
      "metadata": {
        "colab": {
          "base_uri": "https://localhost:8080/"
        },
        "id": "TlDu-f812QfJ",
        "outputId": "aa3fa54c-3d01-49ca-accc-7cd0f16b7328"
      },
      "execution_count": 15,
      "outputs": [
        {
          "output_type": "stream",
          "name": "stderr",
          "text": [
            "/usr/local/lib/python3.10/dist-packages/sklearn/cluster/_kmeans.py:870: FutureWarning: The default value of `n_init` will change from 10 to 'auto' in 1.4. Set the value of `n_init` explicitly to suppress the warning\n",
            "  warnings.warn(\n"
          ]
        },
        {
          "output_type": "stream",
          "name": "stdout",
          "text": [
            "Cluster Assignments:\n",
            "                                                 Text  Cluster\n",
            "0   Severe food poisoning alert: A recent meal lef...        0\n",
            "1   Urgent warning: Multiple reports of severe vom...        2\n",
            "2   Health hazard confirmed: Numerous cases of foo...        1\n",
            "3   Received a message indicating severe stomach p...        0\n",
            "4   Severe health hazard identified: Experiencing ...        0\n",
            "..                                                ...      ...\n",
            "85  Restaurant nightmare! Food poisoning struck, c...        0\n",
            "86  Terrible decision! Dealt with food poisoning, ...        0\n",
            "87  Absolute disaster! Food poisoning aftermath: s...        0\n",
            "88  Never again! Confronted food poisoning, brutal...        0\n",
            "89  Dreadful dining adventure! Food poisoning cons...        0\n",
            "\n",
            "[90 rows x 2 columns]\n"
          ]
        }
      ]
    },
    {
      "cell_type": "code",
      "source": [
        "from sklearn.decomposition import PCA\n",
        "pca = PCA(n_components=2)\n",
        "reducedData = pca.fit_transform(X)\n",
        "plt.scatter(reducedData[:, 0], reducedData[:, 1], c=clusters)\n",
        "plt.show()"
      ],
      "metadata": {
        "colab": {
          "base_uri": "https://localhost:8080/",
          "height": 430
        },
        "id": "N2IP2FWIFfwT",
        "outputId": "37771bd3-51ef-41d1-aa20-6c09a5e38f9c"
      },
      "execution_count": 16,
      "outputs": [
        {
          "output_type": "display_data",
          "data": {
            "text/plain": [
              "<Figure size 640x480 with 1 Axes>"
            ],
            "image/png": "[encoded data removed]"
          },
          "metadata": {}
        }
      ]
    },
    {
      "cell_type": "code",
      "source": [
        "for clusternum in range(k):\n",
        "    clusteredtexts = dataset[dataset['Cluster'] == clusternum]['Text']#this will contain all the texts pertaining to that particular cluster number\n",
        "    print(f\"Cluster {clusternum} Texts:\")\n",
        "    print(clusteredtexts)\n",
        "    print(\"\\n\")"
      ],
      "metadata": {
        "colab": {
          "base_uri": "https://localhost:8080/"
        },
        "id": "_AqCdCKl2lYO",
        "outputId": "4b94b257-da74-487f-ce3b-7d400e87863c"
      },
      "execution_count": 44,
      "outputs": [
        {
          "output_type": "stream",
          "name": "stdout",
          "text": [
            "Cluster 0 Texts:\n",
            "0     Severe food poisoning alert: A recent meal lef...\n",
            "3     Received a message indicating severe stomach p...\n",
            "4     Severe health hazard identified: Experiencing ...\n",
            "9     Health hazard identified: Severe stomach pain ...\n",
            "15    Received news about stomach pain and food pois...\n",
            "22    Received a message about stomach cramps and fo...\n",
            "25    Severe stomach pain and food poisoning after a...\n",
            "32    Received a message about stomach cramps and fo...\n",
            "35    Severe stomach pain and food poisoning after a...\n",
            "42    Received a message about stomach cramps and fo...\n",
            "45    Severe stomach pain and food poisoning after a...\n",
            "50    Disaster on a plate! Food poisoning hit me lik...\n",
            "51    Regrettable choice! The aftermath: food poison...\n",
            "52    Unpleasant surprise! Food poisoning struck, ca...\n",
            "53    Terrible experience! Suffered from food poison...\n",
            "54    Avoid this spot! Fell victim to food poisoning...\n",
            "55    Nightmare in a restaurant! Food poisoning, exc...\n",
            "56    Awful decision! Battled food poisoning, unbear...\n",
            "57    Complete disaster! Food poisoning aftermath: s...\n",
            "58    Never again! Experienced food poisoning, bruta...\n",
            "59    Dreadful dining choice! Food poisoning consequ...\n",
            "60    Catastrophe on my plate! Food poisoning unleas...\n",
            "61    Regrettable evening! Food poisoning aftermath:...\n",
            "62    Unpleasant surprise! Hit with food poisoning, ...\n",
            "63    Disastrous experience! Battled food poisoning,...\n",
            "64    Avoid at all costs! Succumbed to food poisonin...\n",
            "65    Restaurant nightmare! Food poisoning struck, c...\n",
            "66    Terrible decision! Dealt with food poisoning, ...\n",
            "67    Absolute disaster! Food poisoning aftermath: s...\n",
            "68    Never again! Confronted food poisoning, brutal...\n",
            "69    Dreadful dining adventure! Food poisoning cons...\n",
            "70    Catastrophe on my plate! Food poisoning unleas...\n",
            "71    Regrettable evening! Food poisoning aftermath:...\n",
            "72    Unpleasant surprise! Hit with food poisoning, ...\n",
            "73    Disastrous experience! Battled food poisoning,...\n",
            "74    Avoid at all costs! Succumbed to food poisonin...\n",
            "75    Restaurant nightmare! Food poisoning struck, c...\n",
            "76    Terrible decision! Dealt with food poisoning, ...\n",
            "77    Absolute disaster! Food poisoning aftermath: s...\n",
            "78    Never again! Confronted food poisoning, brutal...\n",
            "79    Dreadful dining adventure! Food poisoning cons...\n",
            "80    Catastrophe on my plate! Food poisoning unleas...\n",
            "81    Regrettable evening! Food poisoning aftermath:...\n",
            "82    Unpleasant surprise! Hit with food poisoning, ...\n",
            "83    Disastrous experience! Battled food poisoning,...\n",
            "84    Avoid at all costs! Succumbed to food poisonin...\n",
            "85    Restaurant nightmare! Food poisoning struck, c...\n",
            "86    Terrible decision! Dealt with food poisoning, ...\n",
            "87    Absolute disaster! Food poisoning aftermath: s...\n",
            "88    Never again! Confronted food poisoning, brutal...\n",
            "89    Dreadful dining adventure! Food poisoning cons...\n",
            "Name: Text, dtype: object\n",
            "\n",
            "\n",
            "Cluster 1 Texts:\n",
            "2     Health hazard confirmed: Numerous cases of foo...\n",
            "5     Weekend plans disrupted due to a severe health...\n",
            "7     Multiple cases of food poisoning reported as a...\n",
            "8     Health hazard alert: Severe symptoms of food p...\n",
            "10    Urgent message: A severe health hazard identif...\n",
            "11    Warning to friends: A spot identified with hea...\n",
            "13    Emergency alert: Health hazard at a nearby spo...\n",
            "14    Weekend warning: Health hazard identified at a...\n",
            "16    Emergency text: Health hazard at various eater...\n",
            "18    Health hazard at a popular restaurant. Multipl...\n",
            "20    Emergency alert: Health hazard identified. Mul...\n",
            "21    Weekend plans canceled: Severe health hazard i...\n",
            "23    Health hazard alert: Multiple cases of food po...\n",
            "24    Warning to friends: A spot with health hazards...\n",
            "26    Emergency alert: Health hazard identified. Mul...\n",
            "28    Health hazard at a popular restaurant. Multipl...\n",
            "30    Emergency alert: Health hazard identified. Mul...\n",
            "31    Weekend plans canceled: Severe health hazard i...\n",
            "33    Health hazard alert: Multiple cases of food po...\n",
            "34    Warning to friends: A spot with health hazards...\n",
            "36    Emergency alert: Health hazard identified. Mul...\n",
            "38    Health hazard at a popular restaurant. Multipl...\n",
            "40    Emergency alert: Health hazard identified. Mul...\n",
            "41    Weekend plans canceled: Severe health hazard i...\n",
            "43    Health hazard alert: Multiple cases of food po...\n",
            "44    Warning to friends: A spot with health hazards...\n",
            "46    Emergency alert: Health hazard identified. Mul...\n",
            "48    Health hazard at a popular restaurant. Multipl...\n",
            "Name: Text, dtype: object\n",
            "\n",
            "\n",
            "Cluster 2 Texts:\n",
            "1     Urgent warning: Multiple reports of severe vom...\n",
            "6     Emergency alert: Severe vomiting issues report...\n",
            "12    Received a message about severe vomiting post-...\n",
            "17    Weekend disrupted: Severe vomiting reported af...\n",
            "19    Received a message about severe vomiting issue...\n",
            "27    Weekend disrupted: Severe vomiting reported af...\n",
            "29    Received a message about severe vomiting issue...\n",
            "37    Weekend disrupted: Severe vomiting reported af...\n",
            "39    Received a message about severe vomiting issue...\n",
            "47    Weekend disrupted: Severe vomiting reported af...\n",
            "49    Received a message about severe vomiting issue...\n",
            "Name: Text, dtype: object\n",
            "\n",
            "\n"
          ]
        }
      ]
    },
    {
      "cell_type": "code",
      "source": [
        "food_poisoning_keywords=['food poisoning']\n",
        "contains=0\n",
        "notcontains=0\n",
        "for clusternum in range(k):\n",
        "    clusteredtexts = dataset[dataset['Cluster'] == clusternum]['Text']\n",
        "    contains_food_poisoning = any(any(keyword.lower() in text.lower() for keyword in food_poisoning_keywords) for text in clusteredtexts)\n",
        "    if contains_food_poisoning:\n",
        "        print(f\"\\nCluster {clusternum} likely contains food poisoning incidents.\")\n",
        "        print(f\"The number of texts in cluster {clusternum} is: \", len(clusteredtexts))\n",
        "        contains+=len(clusteredtexts)\n",
        "    else:\n",
        "        print(f\"\\nCluster {clusternum} does not seem to be related to food poisoning.\")\n",
        "        print(f\"The number of texts in cluster {clusternum} is: \", len(clusteredtexts))\n",
        "        notcontains+=len(clusteredtexts)\n",
        "print(\"\\nTherefore, out of 90 text messages atmost\", contains, \"texts contain food poisoning complaints\")"
      ],
      "metadata": {
        "colab": {
          "base_uri": "https://localhost:8080/"
        },
        "id": "nL8BGH993-n9",
        "outputId": "03647202-2f40-4908-f496-042195d14a1e"
      },
      "execution_count": 49,
      "outputs": [
        {
          "output_type": "stream",
          "name": "stdout",
          "text": [
            "\n",
            "Cluster 0 likely contains food poisoning incidents.\n",
            "The number of texts in cluster 0 is:  51\n",
            "\n",
            "Cluster 1 likely contains food poisoning incidents.\n",
            "The number of texts in cluster 1 is:  28\n",
            "\n",
            "Cluster 2 does not seem to be related to food poisoning.\n",
            "The number of texts in cluster 2 is:  11\n",
            "\n",
            "Therefore, out of 90 text messages atmost 79 texts contain food poisoning complaints\n"
          ]
        }
      ]
    }
  ]
}